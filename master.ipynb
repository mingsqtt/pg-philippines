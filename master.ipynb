{
 "cells": [
  {
   "cell_type": "code",
   "execution_count": 23,
   "metadata": {},
   "outputs": [
    {
     "name": "stdout",
     "output_type": "stream",
     "text": [
      "Looking in indexes: https://test.pypi.org/simple/\n",
      "Collecting lmpylib-mingsqtt\n",
      "  Downloading https://test-files.pythonhosted.org/packages/0f/54/51b6b3d5aa745e6d21aab1ad347ac5606d86fb6c5cc7645514e720af7759/lmpylib_mingsqtt-0.2-py3-none-any.whl\n",
      "Installing collected packages: lmpylib-mingsqtt\n",
      "Successfully installed lmpylib-mingsqtt-0.2\n"
     ]
    }
   ],
   "source": [
    "# !pip install --index-url https://test.pypi.org/simple/ --no-deps lmpylib-mingsqtt"
   ]
  },
  {
   "cell_type": "code",
   "execution_count": 266,
   "metadata": {},
   "outputs": [],
   "source": [
    "import os\n",
    "import numpy as np\n",
    "import pandas as pd\n",
    "from matplotlib import pyplot as plt\n",
    "from datetime import date\n",
    "from datetime import datetime\n",
    "from datetime import timedelta\n",
    "import pytz\n",
    "from lmpylib.core import *"
   ]
  },
  {
   "cell_type": "code",
   "execution_count": 2,
   "metadata": {},
   "outputs": [],
   "source": [
    "os.chdir(\"d:/projects/pg-philippines\")"
   ]
  },
  {
   "cell_type": "code",
   "execution_count": 474,
   "metadata": {},
   "outputs": [],
   "source": [
    "raw_data = pd.read_csv(\"data/pg_data.csv\")"
   ]
  },
  {
   "cell_type": "code",
   "execution_count": 475,
   "metadata": {},
   "outputs": [],
   "source": [
    "common_cols = ['PO# (1st leg)', 'PO# (last leg)', 'Movement Type', 'Export Country', 'Import Country', 'Product Category', 'Ship Mode', 'Origin Port', 'Destination Port', 'Container Size / Type', 'Carrier', 'Vessel Name', 'Container Number', 'ETD', 'Latest ETD', 'ETA', 'Latest ETA', \"ATD\", \"ATA\"]\n",
    "export_cols = ['Export Request Date', 'Carrier Booking Confirmation Date', 'Container Pick-up Date', 'Container Actual Arrival Date', 'Container Actual Arrival Time', 'Container Loading Date', 'Container Port Gate-In Date']\n",
    "import_cols = ['Container Port Gate-out Date', 'Actual Delivery Date\\n(1st Point of Delivery)', 'Empty Container Availability Date', 'Plant/DC Exit Date', 'Container return date', 'Latest Gate-Out (Port Storage)']\n",
    "\n",
    "raw_data = raw_data[common_cols + import_cols + export_cols]\n",
    "\n",
    "common_cols = ['po_1', 'po_2', 'movement', 'export_country', 'import_country', 'prod_cat', 'mode', 'ori_port', 'dest_port', 'size', 'carrier', 'vessel', 'container_no', 'etd', 'latest_etd', 'eta', 'latest_eta', \"atd\", \"ata\"]\n",
    "export_cols = ['request_date', 'confirm_date', 'pickup_date', 'empty_arrival_date', 'arrival_time', 'loading_date', 'gatein_date']\n",
    "import_cols = ['gateout_date', 'delivery_arrival_date', 'unload_finish_date', 'exit_date', 'returned_date', 'port_store_gateout_date']\n",
    "\n",
    "raw_data.columns = common_cols + import_cols + export_cols\n",
    "\n",
    "raw_data.to_csv(\"data/pg_data_reduced.csv\", index=False)"
   ]
  },
  {
   "cell_type": "code",
   "execution_count": 476,
   "metadata": {},
   "outputs": [],
   "source": [
    "raw_data = pd.read_csv(\"data/pg_data_reduced.csv\")\n",
    "\n",
    "for col in common_cols + import_cols + export_cols:\n",
    "    raw_data.loc[(raw_data[col] == \"N/A\") | (raw_data[col] == \"TBA\"), col] = None"
   ]
  },
  {
   "cell_type": "code",
   "execution_count": 477,
   "metadata": {},
   "outputs": [],
   "source": [
    "for col in ['etd', 'latest_etd', 'eta', 'latest_eta', \"atd\", \"ata\", 'request_date', 'confirm_date', 'pickup_date', 'empty_arrival_date', 'loading_date', 'gatein_date', 'gateout_date', 'delivery_arrival_date', 'unload_finish_date', 'exit_date', 'returned_date', 'port_store_gateout_date']:\n",
    "    raw_data.loc[(raw_data[col] == \"Export\") | (raw_data[col] == \"00-Jan-00\"), col] = None\n",
    "    ser = raw_data.loc[pd.isna(raw_data[col]) == False, col]\n",
    "    ser = ser.apply(lambda s: datetime.strptime(s,\"%d-%b-%y\"))\n",
    "    raw_data.loc[pd.isna(raw_data[col]) == False, col] = ser\n",
    "    raw_data[col] = raw_data[col].astype(\"datetime64[D]\")"
   ]
  },
  {
   "cell_type": "code",
   "execution_count": 478,
   "metadata": {},
   "outputs": [],
   "source": [
    "for col in ['arrival_time']:\n",
    "    ser = raw_data.loc[pd.isna(raw_data[col]) == False, col]\n",
    "    ser = ser.apply(lambda s: datetime.strptime(s,\"%H:%M:%S\"))\n",
    "    raw_data.loc[pd.isna(raw_data[col]) == False, col] = ser\n",
    "    raw_data[col] = raw_data[col].astype(\"datetime64[s]\")"
   ]
  },
  {
   "cell_type": "code",
   "execution_count": 479,
   "metadata": {},
   "outputs": [],
   "source": [
    "raw_data.loc[pd.isna(raw_data.latest_eta) == False, \"eta\"] = raw_data.latest_eta.loc[pd.isna(raw_data.latest_eta) == False].values\n",
    "raw_data.loc[pd.isna(raw_data.latest_etd) == False, \"etd\"] = raw_data.latest_etd.loc[pd.isna(raw_data.latest_etd) == False].values"
   ]
  },
  {
   "cell_type": "code",
   "execution_count": 480,
   "metadata": {},
   "outputs": [],
   "source": [
    "raw_data.loc[raw_data.movement == \"Import\", \"date\"] = raw_data.loc[raw_data.movement == \"Import\", \"ata\"].values\n",
    "raw_data.loc[raw_data.movement == \"Export\", \"date\"] = raw_data.loc[raw_data.movement == \"Export\", \"pickup_date\"].values\n",
    "raw_data.loc[(raw_data.movement == \"Export\") & pd.isna(raw_data.pickup_date), \"date\"] = raw_data.loc[(raw_data.movement == \"Export\") & pd.isna(raw_data.pickup_date), \"confirm_date\"].values\n",
    "\n",
    "raw_data = raw_data.loc[raw_data.date > np.datetime64('2018-11-01'), :].copy()\n",
    "\n",
    "ticks = (raw_data.date.astype(\"int64\") / 1000000000).astype(\"int32\").values\n",
    "dates = [datetime.fromtimestamp(tick).date() for tick in ticks]"
   ]
  },
  {
   "cell_type": "code",
   "execution_count": 481,
   "metadata": {},
   "outputs": [],
   "source": [
    "transformed = [(dt.year, dt.month, dt.day, dt.weekday()) for dt in dates]\n",
    "\n",
    "first_date = min(dates)\n",
    "\n",
    "raw_data[\"year\"] = [tup[0] for tup in transformed]\n",
    "raw_data[\"month\"] = [tup[1] for tup in transformed]\n",
    "raw_data[\"day\"] = [tup[2] for tup in transformed]\n",
    "raw_data[\"wday\"] = [tup[3] for tup in transformed]\n",
    "raw_data[\"month_sn\"] = [str(tup[0]*100 + tup[1]) for tup in transformed]\n",
    "raw_data[\"day_sn\"] = [(dt - first_date).days for dt in dates]\n",
    "\n",
    "raw_data[\"year\"] = raw_data[\"year\"].astype(\"category\")\n",
    "raw_data[\"month\"] = pd.Categorical(raw_data[\"wday\"], categories=list(range(1, 13)), ordered=True)\n",
    "raw_data[\"wday\"] = pd.Categorical(raw_data[\"wday\"], categories=list(range(0, 7)), ordered=True)\n",
    "raw_data[\"day\"] = pd.Categorical(raw_data[\"day\"], categories=list(range(1, 32)), ordered=True)\n",
    "raw_data[\"day_sn\"] = pd.Categorical(raw_data[\"day_sn\"], categories=np.unique(raw_data[\"day_sn\"].values), ordered=True)"
   ]
  },
  {
   "cell_type": "code",
   "execution_count": 482,
   "metadata": {},
   "outputs": [],
   "source": [
    "import_data = raw_data.loc[raw_data[\"movement\"] == \"Import\", common_cols + [\"date\", \"year\", \"month\", \"day\", \"wday\", \"month_sn\", \"day_sn\"] + import_cols]\n",
    "export_data = raw_data.loc[raw_data[\"movement\"] == \"Export\", common_cols + [\"date\", \"year\", \"month\", \"day\", \"wday\", \"month_sn\", \"day_sn\"] + export_cols]\n",
    "del import_data[\"movement\"]\n",
    "del import_data[\"latest_eta\"]\n",
    "del import_data[\"latest_etd\"]\n",
    "del export_data[\"movement\"]\n",
    "del export_data[\"latest_eta\"]\n",
    "del export_data[\"latest_etd\"]"
   ]
  },
  {
   "cell_type": "code",
   "execution_count": 483,
   "metadata": {},
   "outputs": [],
   "source": [
    "import_data.to_csv(\"data/pg_import.csv\", index=False)\n",
    "export_data.to_csv(\"data/pg_export.csv\", index=False)"
   ]
  },
  {
   "cell_type": "code",
   "execution_count": 484,
   "metadata": {},
   "outputs": [],
   "source": [
    "# import_data = pd.read_csv(\"data/pg_import.csv\")\n",
    "# export_data = pd.read_csv(\"data/pg_export.csv\")"
   ]
  },
  {
   "cell_type": "code",
   "execution_count": 485,
   "metadata": {},
   "outputs": [
    {
     "name": "stdout",
     "output_type": "stream",
     "text": [
      "14284\n",
      "po_1                               object\n",
      "po_2                               object\n",
      "export_country                     object\n",
      "import_country                     object\n",
      "prod_cat                           object\n",
      "mode                               object\n",
      "ori_port                           object\n",
      "dest_port                          object\n",
      "size                               object\n",
      "carrier                            object\n",
      "vessel                             object\n",
      "container_no                       object\n",
      "etd                        datetime64[ns]\n",
      "eta                        datetime64[ns]\n",
      "atd                        datetime64[ns]\n",
      "ata                        datetime64[ns]\n",
      "date                       datetime64[ns]\n",
      "year                             category\n",
      "month                            category\n",
      "day                              category\n",
      "wday                             category\n",
      "month_sn                           object\n",
      "day_sn                           category\n",
      "gateout_date               datetime64[ns]\n",
      "delivery_arrival_date      datetime64[ns]\n",
      "unload_finish_date         datetime64[ns]\n",
      "exit_date                  datetime64[ns]\n",
      "returned_date              datetime64[ns]\n",
      "port_store_gateout_date    datetime64[ns]\n",
      "dtype: object\n"
     ]
    }
   ],
   "source": [
    "print(len(import_data))\n",
    "print(import_data.dtypes)"
   ]
  },
  {
   "cell_type": "code",
   "execution_count": 486,
   "metadata": {},
   "outputs": [
    {
     "data": {
      "text/html": [
       "<div>\n",
       "<style scoped>\n",
       "    .dataframe tbody tr th:only-of-type {\n",
       "        vertical-align: middle;\n",
       "    }\n",
       "\n",
       "    .dataframe tbody tr th {\n",
       "        vertical-align: top;\n",
       "    }\n",
       "\n",
       "    .dataframe thead th {\n",
       "        text-align: right;\n",
       "    }\n",
       "</style>\n",
       "<table border=\"1\" class=\"dataframe\">\n",
       "  <thead>\n",
       "    <tr style=\"text-align: right;\">\n",
       "      <th></th>\n",
       "      <th>Min</th>\n",
       "      <th>Q1</th>\n",
       "      <th>Median</th>\n",
       "      <th>Mean</th>\n",
       "      <th>Q3</th>\n",
       "      <th>Max</th>\n",
       "      <th>NA</th>\n",
       "    </tr>\n",
       "  </thead>\n",
       "  <tbody>\n",
       "    <tr>\n",
       "      <th>ata</th>\n",
       "      <td>2019-01-01</td>\n",
       "      <td>2019-03-22</td>\n",
       "      <td>2019-06-30</td>\n",
       "      <td>2019-06-21 19:33:33.217586176</td>\n",
       "      <td>2019-09-17</td>\n",
       "      <td>2019-12-04</td>\n",
       "      <td>0</td>\n",
       "    </tr>\n",
       "    <tr>\n",
       "      <th>gateout_date</th>\n",
       "      <td>2018-12-18</td>\n",
       "      <td>2019-04-02</td>\n",
       "      <td>2019-07-05</td>\n",
       "      <td>2019-06-27 16:10:47.673098496</td>\n",
       "      <td>2019-09-19</td>\n",
       "      <td>2019-12-05</td>\n",
       "      <td>188</td>\n",
       "    </tr>\n",
       "    <tr>\n",
       "      <th>delivery_arrival_date</th>\n",
       "      <td>2019-01-03</td>\n",
       "      <td>2019-04-03</td>\n",
       "      <td>2019-07-04</td>\n",
       "      <td>2019-06-27 12:26:18.798888704</td>\n",
       "      <td>2019-09-18</td>\n",
       "      <td>2019-12-03</td>\n",
       "      <td>247</td>\n",
       "    </tr>\n",
       "    <tr>\n",
       "      <th>unload_finish_date</th>\n",
       "      <td>2019-01-03</td>\n",
       "      <td>2019-03-31</td>\n",
       "      <td>2019-06-27</td>\n",
       "      <td>2019-06-25 19:17:04.623258624</td>\n",
       "      <td>2019-09-18</td>\n",
       "      <td>2019-12-04</td>\n",
       "      <td>7250</td>\n",
       "    </tr>\n",
       "    <tr>\n",
       "      <th>exit_date</th>\n",
       "      <td>2019-01-03</td>\n",
       "      <td>2019-04-03</td>\n",
       "      <td>2019-07-03</td>\n",
       "      <td>2019-06-28 23:46:07.947669504</td>\n",
       "      <td>2019-09-21</td>\n",
       "      <td>2019-12-04</td>\n",
       "      <td>3277</td>\n",
       "    </tr>\n",
       "    <tr>\n",
       "      <th>returned_date</th>\n",
       "      <td>2019-01-09</td>\n",
       "      <td>2019-04-04</td>\n",
       "      <td>2019-07-02</td>\n",
       "      <td>2019-06-29 15:31:54.794647040</td>\n",
       "      <td>2019-09-20</td>\n",
       "      <td>2019-12-03</td>\n",
       "      <td>3449</td>\n",
       "    </tr>\n",
       "  </tbody>\n",
       "</table>\n",
       "</div>"
      ],
      "text/plain": [
       "                             Min         Q1     Median  \\\n",
       "ata                   2019-01-01 2019-03-22 2019-06-30   \n",
       "gateout_date          2018-12-18 2019-04-02 2019-07-05   \n",
       "delivery_arrival_date 2019-01-03 2019-04-03 2019-07-04   \n",
       "unload_finish_date    2019-01-03 2019-03-31 2019-06-27   \n",
       "exit_date             2019-01-03 2019-04-03 2019-07-03   \n",
       "returned_date         2019-01-09 2019-04-04 2019-07-02   \n",
       "\n",
       "                                               Mean         Q3        Max  \\\n",
       "ata                   2019-06-21 19:33:33.217586176 2019-09-17 2019-12-04   \n",
       "gateout_date          2019-06-27 16:10:47.673098496 2019-09-19 2019-12-05   \n",
       "delivery_arrival_date 2019-06-27 12:26:18.798888704 2019-09-18 2019-12-03   \n",
       "unload_finish_date    2019-06-25 19:17:04.623258624 2019-09-18 2019-12-04   \n",
       "exit_date             2019-06-28 23:46:07.947669504 2019-09-21 2019-12-04   \n",
       "returned_date         2019-06-29 15:31:54.794647040 2019-09-20 2019-12-03   \n",
       "\n",
       "                         NA  \n",
       "ata                       0  \n",
       "gateout_date            188  \n",
       "delivery_arrival_date   247  \n",
       "unload_finish_date     7250  \n",
       "exit_date              3277  \n",
       "returned_date          3449  "
      ]
     },
     "execution_count": 486,
     "metadata": {},
     "output_type": "execute_result"
    }
   ],
   "source": [
    "date_cols = [\"ata\", \"gateout_date\", \"delivery_arrival_date\", \"unload_finish_date\", \"exit_date\", \"returned_date\"]\n",
    "summary(import_data[date_cols])"
   ]
  },
  {
   "cell_type": "code",
   "execution_count": 487,
   "metadata": {},
   "outputs": [],
   "source": [
    "onedaydelta = 86400000000000\n",
    "\n",
    "def calc_ndays():\n",
    "    nna_filter = (pd.isna(import_data.ata) | pd.isna(import_data.gateout_date) | pd.isna(import_data.delivery_arrival_date) | pd.isna(import_data.unload_finish_date) | pd.isna(import_data.exit_date) | pd.isna(import_data.returned_date)) == False\n",
    "    print(\"{} records have non-empty dates\".format(np.sum(nna_filter)))\n",
    "    ordered_filter = (import_data.ata <= import_data.gateout_date) & (import_data.gateout_date <= import_data.delivery_arrival_date) & (import_data.delivery_arrival_date <= import_data.unload_finish_date) & (import_data.unload_finish_date <= import_data.exit_date) & (import_data.exit_date <= import_data.returned_date)\n",
    "    print(\"{} records have non-empty and correctly ordered dates\".format(np.sum(ordered_filter)))\n",
    "\n",
    "    nan_ordered = nna_filter & ordered_filter\n",
    "\n",
    "    #nan_filter = (pd.isna(import_data.gateout_date) | pd.isna(import_data.ata)) == False\n",
    "    import_data.loc[nan_ordered, \"nday_vessel_to_gate\"] = (import_data.gateout_date[nan_ordered] - import_data.ata[nan_ordered]).astype(\"int64\") / onedaydelta\n",
    "\n",
    "    #nan_filter = (pd.isna(import_data.delivery_arrival_date) | pd.isna(import_data.gateout_date)) == False\n",
    "    import_data.loc[nan_ordered, \"nday_gate_to_plant\"] = (import_data.delivery_arrival_date[nan_ordered] - import_data.gateout_date[nan_ordered]).astype(\"int64\") / onedaydelta\n",
    "\n",
    "    #nan_filter = (pd.isna(import_data.unload_finish_date) | pd.isna(import_data.delivery_arrival_date)) == False\n",
    "    import_data.loc[nan_ordered, \"nday_arrival_to_empty\"] = (import_data.unload_finish_date[nan_ordered] - import_data.delivery_arrival_date[nan_ordered]).astype(\"int64\") / onedaydelta\n",
    "\n",
    "    #nan_filter = (pd.isna(import_data.exit_date) | pd.isna(import_data.unload_finish_date)) == False\n",
    "    import_data.loc[nan_ordered, \"nday_empty_to_exit\"] = (import_data.exit_date[nan_ordered] - import_data.unload_finish_date[nan_ordered]).astype(\"int64\") / onedaydelta\n",
    "\n",
    "    #nan_filter = (pd.isna(import_data.returned_date) | pd.isna(import_data.exit_date)) == False\n",
    "    import_data.loc[nan_ordered, \"nday_exit_to_return\"] = (import_data.returned_date[nan_ordered] - import_data.exit_date[nan_ordered]).astype(\"int64\") / onedaydelta"
   ]
  },
  {
   "cell_type": "code",
   "execution_count": 488,
   "metadata": {},
   "outputs": [
    {
     "name": "stdout",
     "output_type": "stream",
     "text": [
      "7010 records have non-empty dates\n",
      "6926 records have non-empty and correctly ordered dates\n"
     ]
    }
   ],
   "source": [
    "calc_ndays()"
   ]
  },
  {
   "cell_type": "code",
   "execution_count": 489,
   "metadata": {},
   "outputs": [
    {
     "data": {
      "text/html": [
       "<div>\n",
       "<style scoped>\n",
       "    .dataframe tbody tr th:only-of-type {\n",
       "        vertical-align: middle;\n",
       "    }\n",
       "\n",
       "    .dataframe tbody tr th {\n",
       "        vertical-align: top;\n",
       "    }\n",
       "\n",
       "    .dataframe thead th {\n",
       "        text-align: right;\n",
       "    }\n",
       "</style>\n",
       "<table border=\"1\" class=\"dataframe\">\n",
       "  <thead>\n",
       "    <tr style=\"text-align: right;\">\n",
       "      <th></th>\n",
       "      <th>Min</th>\n",
       "      <th>Q1</th>\n",
       "      <th>Median</th>\n",
       "      <th>Mean</th>\n",
       "      <th>Q3</th>\n",
       "      <th>Max</th>\n",
       "      <th>NA</th>\n",
       "    </tr>\n",
       "  </thead>\n",
       "  <tbody>\n",
       "    <tr>\n",
       "      <th>nday_vessel_to_gate</th>\n",
       "      <td>0.0</td>\n",
       "      <td>3.0</td>\n",
       "      <td>5.0</td>\n",
       "      <td>5.225960</td>\n",
       "      <td>6.0</td>\n",
       "      <td>43.0</td>\n",
       "      <td>7358</td>\n",
       "    </tr>\n",
       "    <tr>\n",
       "      <th>nday_gate_to_plant</th>\n",
       "      <td>0.0</td>\n",
       "      <td>0.0</td>\n",
       "      <td>0.0</td>\n",
       "      <td>0.860092</td>\n",
       "      <td>1.0</td>\n",
       "      <td>55.0</td>\n",
       "      <td>7358</td>\n",
       "    </tr>\n",
       "    <tr>\n",
       "      <th>nday_arrival_to_empty</th>\n",
       "      <td>0.0</td>\n",
       "      <td>0.0</td>\n",
       "      <td>1.0</td>\n",
       "      <td>6.186977</td>\n",
       "      <td>7.0</td>\n",
       "      <td>173.0</td>\n",
       "      <td>7358</td>\n",
       "    </tr>\n",
       "    <tr>\n",
       "      <th>nday_empty_to_exit</th>\n",
       "      <td>0.0</td>\n",
       "      <td>0.0</td>\n",
       "      <td>0.0</td>\n",
       "      <td>0.013428</td>\n",
       "      <td>0.0</td>\n",
       "      <td>23.0</td>\n",
       "      <td>7358</td>\n",
       "    </tr>\n",
       "    <tr>\n",
       "      <th>nday_exit_to_return</th>\n",
       "      <td>0.0</td>\n",
       "      <td>0.0</td>\n",
       "      <td>1.0</td>\n",
       "      <td>2.896044</td>\n",
       "      <td>2.0</td>\n",
       "      <td>69.0</td>\n",
       "      <td>7358</td>\n",
       "    </tr>\n",
       "  </tbody>\n",
       "</table>\n",
       "</div>"
      ],
      "text/plain": [
       "                       Min   Q1  Median      Mean   Q3    Max    NA\n",
       "nday_vessel_to_gate    0.0  3.0     5.0  5.225960  6.0   43.0  7358\n",
       "nday_gate_to_plant     0.0  0.0     0.0  0.860092  1.0   55.0  7358\n",
       "nday_arrival_to_empty  0.0  0.0     1.0  6.186977  7.0  173.0  7358\n",
       "nday_empty_to_exit     0.0  0.0     0.0  0.013428  0.0   23.0  7358\n",
       "nday_exit_to_return    0.0  0.0     1.0  2.896044  2.0   69.0  7358"
      ]
     },
     "execution_count": 489,
     "metadata": {},
     "output_type": "execute_result"
    }
   ],
   "source": [
    "nday_cols = [\"nday_vessel_to_gate\", \"nday_gate_to_plant\", \"nday_arrival_to_empty\", \"nday_empty_to_exit\", \"nday_exit_to_return\"]\n",
    "summary(import_data[nday_cols])"
   ]
  },
  {
   "cell_type": "code",
   "execution_count": 490,
   "metadata": {},
   "outputs": [
    {
     "name": "stdout",
     "output_type": "stream",
     "text": [
      "nday_vessel_to_gate:\n"
     ]
    },
    {
     "data": {
      "image/png": "[encoded data removed]",
      "text/plain": [
       "<Figure size 432x288 with 1 Axes>"
      ]
     },
     "metadata": {},
     "output_type": "display_data"
    },
    {
     "name": "stdout",
     "output_type": "stream",
     "text": [
      "nday_gate_to_plant:\n"
     ]
    },
    {
     "data": {
      "image/png": "[encoded data removed]",
      "text/plain": [
       "<Figure size 432x288 with 1 Axes>"
      ]
     },
     "metadata": {},
     "output_type": "display_data"
    },
    {
     "name": "stdout",
     "output_type": "stream",
     "text": [
      "nday_arrival_to_empty:\n"
     ]
    },
    {
     "data": {
      "image/png": "[encoded data removed]",
      "text/plain": [
       "<Figure size 432x288 with 1 Axes>"
      ]
     },
     "metadata": {},
     "output_type": "display_data"
    },
    {
     "name": "stdout",
     "output_type": "stream",
     "text": [
      "nday_empty_to_exit:\n"
     ]
    },
    {
     "data": {
      "image/png": "[encoded data removed]",
      "text/plain": [
       "<Figure size 432x288 with 1 Axes>"
      ]
     },
     "metadata": {},
     "output_type": "display_data"
    },
    {
     "name": "stdout",
     "output_type": "stream",
     "text": [
      "nday_exit_to_return:\n"
     ]
    },
    {
     "data": {
      "image/png": "[encoded data removed]",
      "text/plain": [
       "<Figure size 432x288 with 1 Axes>"
      ]
     },
     "metadata": {},
     "output_type": "display_data"
    }
   ],
   "source": [
    "for col in nday_cols:\n",
    "    print(col + \":\")\n",
    "    hist(import_data.loc[(pd.isna(import_data[col]) == False), col], range=(0, 20), bins=20)"
   ]
  },
  {
   "cell_type": "code",
   "execution_count": 491,
   "metadata": {},
   "outputs": [
    {
     "data": {
      "text/html": [
       "<div>\n",
       "<style scoped>\n",
       "    .dataframe tbody tr th:only-of-type {\n",
       "        vertical-align: middle;\n",
       "    }\n",
       "\n",
       "    .dataframe tbody tr th {\n",
       "        vertical-align: top;\n",
       "    }\n",
       "\n",
       "    .dataframe thead th {\n",
       "        text-align: right;\n",
       "    }\n",
       "</style>\n",
       "<table border=\"1\" class=\"dataframe\">\n",
       "  <thead>\n",
       "    <tr style=\"text-align: right;\">\n",
       "      <th></th>\n",
       "      <th>ata</th>\n",
       "      <th>gateout_date</th>\n",
       "      <th>delivery_arrival_date</th>\n",
       "      <th>unload_finish_date</th>\n",
       "      <th>exit_date</th>\n",
       "      <th>returned_date</th>\n",
       "    </tr>\n",
       "  </thead>\n",
       "  <tbody>\n",
       "    <tr>\n",
       "      <th>1065</th>\n",
       "      <td>2019-01-18</td>\n",
       "      <td>2019-01-21</td>\n",
       "      <td>2019-02-22</td>\n",
       "      <td>2019-02-03</td>\n",
       "      <td>2019-02-03</td>\n",
       "      <td>2019-02-26</td>\n",
       "    </tr>\n",
       "    <tr>\n",
       "      <th>1230</th>\n",
       "      <td>2019-01-19</td>\n",
       "      <td>2019-01-25</td>\n",
       "      <td>2019-02-28</td>\n",
       "      <td>2019-01-29</td>\n",
       "      <td>2019-01-29</td>\n",
       "      <td>2019-02-07</td>\n",
       "    </tr>\n",
       "    <tr>\n",
       "      <th>1299</th>\n",
       "      <td>2019-01-02</td>\n",
       "      <td>2019-02-01</td>\n",
       "      <td>2019-02-04</td>\n",
       "      <td>2019-02-03</td>\n",
       "      <td>2019-02-03</td>\n",
       "      <td>2019-03-02</td>\n",
       "    </tr>\n",
       "    <tr>\n",
       "      <th>1300</th>\n",
       "      <td>2019-01-02</td>\n",
       "      <td>2019-02-01</td>\n",
       "      <td>2019-02-04</td>\n",
       "      <td>2019-02-03</td>\n",
       "      <td>2019-02-03</td>\n",
       "      <td>2019-03-10</td>\n",
       "    </tr>\n",
       "    <tr>\n",
       "      <th>1301</th>\n",
       "      <td>2019-01-16</td>\n",
       "      <td>2019-01-29</td>\n",
       "      <td>2019-01-30</td>\n",
       "      <td>2019-01-03</td>\n",
       "      <td>2019-01-03</td>\n",
       "      <td>2019-02-04</td>\n",
       "    </tr>\n",
       "    <tr>\n",
       "      <th>...</th>\n",
       "      <td>...</td>\n",
       "      <td>...</td>\n",
       "      <td>...</td>\n",
       "      <td>...</td>\n",
       "      <td>...</td>\n",
       "      <td>...</td>\n",
       "    </tr>\n",
       "    <tr>\n",
       "      <th>14381</th>\n",
       "      <td>2019-11-02</td>\n",
       "      <td>2019-11-08</td>\n",
       "      <td>2019-11-08</td>\n",
       "      <td>2019-10-09</td>\n",
       "      <td>2019-10-09</td>\n",
       "      <td>2019-11-10</td>\n",
       "    </tr>\n",
       "    <tr>\n",
       "      <th>14382</th>\n",
       "      <td>2019-11-02</td>\n",
       "      <td>2019-11-08</td>\n",
       "      <td>2019-11-08</td>\n",
       "      <td>2019-10-09</td>\n",
       "      <td>2019-10-09</td>\n",
       "      <td>2019-11-10</td>\n",
       "    </tr>\n",
       "    <tr>\n",
       "      <th>14411</th>\n",
       "      <td>2019-10-30</td>\n",
       "      <td>2019-11-11</td>\n",
       "      <td>2019-11-11</td>\n",
       "      <td>2019-11-09</td>\n",
       "      <td>2019-11-09</td>\n",
       "      <td>2019-11-09</td>\n",
       "    </tr>\n",
       "    <tr>\n",
       "      <th>14549</th>\n",
       "      <td>2019-11-18</td>\n",
       "      <td>2019-11-24</td>\n",
       "      <td>2019-11-23</td>\n",
       "      <td>2019-11-24</td>\n",
       "      <td>2019-11-24</td>\n",
       "      <td>2019-11-24</td>\n",
       "    </tr>\n",
       "    <tr>\n",
       "      <th>14912</th>\n",
       "      <td>2019-11-25</td>\n",
       "      <td>2019-11-27</td>\n",
       "      <td>2019-11-28</td>\n",
       "      <td>2019-11-28</td>\n",
       "      <td>2019-11-27</td>\n",
       "      <td>2019-11-27</td>\n",
       "    </tr>\n",
       "  </tbody>\n",
       "</table>\n",
       "<p>170 rows × 6 columns</p>\n",
       "</div>"
      ],
      "text/plain": [
       "             ata gateout_date delivery_arrival_date unload_finish_date  \\\n",
       "1065  2019-01-18   2019-01-21            2019-02-22         2019-02-03   \n",
       "1230  2019-01-19   2019-01-25            2019-02-28         2019-01-29   \n",
       "1299  2019-01-02   2019-02-01            2019-02-04         2019-02-03   \n",
       "1300  2019-01-02   2019-02-01            2019-02-04         2019-02-03   \n",
       "1301  2019-01-16   2019-01-29            2019-01-30         2019-01-03   \n",
       "...          ...          ...                   ...                ...   \n",
       "14381 2019-11-02   2019-11-08            2019-11-08         2019-10-09   \n",
       "14382 2019-11-02   2019-11-08            2019-11-08         2019-10-09   \n",
       "14411 2019-10-30   2019-11-11            2019-11-11         2019-11-09   \n",
       "14549 2019-11-18   2019-11-24            2019-11-23         2019-11-24   \n",
       "14912 2019-11-25   2019-11-27            2019-11-28         2019-11-28   \n",
       "\n",
       "       exit_date returned_date  \n",
       "1065  2019-02-03    2019-02-26  \n",
       "1230  2019-01-29    2019-02-07  \n",
       "1299  2019-02-03    2019-03-02  \n",
       "1300  2019-02-03    2019-03-10  \n",
       "1301  2019-01-03    2019-02-04  \n",
       "...          ...           ...  \n",
       "14381 2019-10-09    2019-11-10  \n",
       "14382 2019-10-09    2019-11-10  \n",
       "14411 2019-11-09    2019-11-09  \n",
       "14549 2019-11-24    2019-11-24  \n",
       "14912 2019-11-27    2019-11-27  \n",
       "\n",
       "[170 rows x 6 columns]"
      ]
     },
     "execution_count": 491,
     "metadata": {},
     "output_type": "execute_result"
    }
   ],
   "source": [
    "import_data.loc[(nna_filter == True) & (ordered_filter == False), date_cols]"
   ]
  },
  {
   "cell_type": "code",
   "execution_count": 492,
   "metadata": {},
   "outputs": [
    {
     "name": "stdout",
     "output_type": "stream",
     "text": [
      "3973 null unload_finish_date are fixed by assuming unload_finish_date = exit_date\n"
     ]
    }
   ],
   "source": [
    "# exit_date -> unload_finish_date\n",
    "fix_filter = pd.isna(import_data.unload_finish_date) & (pd.isna(import_data.exit_date) == False)\n",
    "print(\"{} null unload_finish_date are fixed by assuming unload_finish_date = exit_date\".format(np.sum(fix_filter)))\n",
    "import_data.loc[fix_filter, \"unload_finish_date\"] = import_data.loc[fix_filter, \"exit_date\"].values\n",
    "import_data.loc[fix_filter, \"nday_empty_to_exit\"] = 0"
   ]
  },
  {
   "cell_type": "code",
   "execution_count": 493,
   "metadata": {},
   "outputs": [
    {
     "name": "stdout",
     "output_type": "stream",
     "text": [
      "0 null exit_date are fixed by assuming unload_finish_date = exit_date\n"
     ]
    }
   ],
   "source": [
    "# unload_finish_date -> exit_date\n",
    "fix_filter = pd.isna(import_data.exit_date) & (pd.isna(import_data.unload_finish_date) == False)\n",
    "print(\"{} null exit_date are fixed by assuming unload_finish_date = exit_date\".format(np.sum(fix_filter)))\n",
    "import_data.loc[fix_filter, \"exit_date\"] = import_data.loc[fix_filter, \"unload_finish_date\"].values\n",
    "import_data.loc[fix_filter, \"nday_empty_to_exit\"] = 0"
   ]
  },
  {
   "cell_type": "code",
   "execution_count": 494,
   "metadata": {},
   "outputs": [
    {
     "name": "stdout",
     "output_type": "stream",
     "text": [
      "188 null gateout_date are fixed using prob distribution of nday_vessel_to_gate\n",
      "rectify 0 fixed gateout_date to avoid wrong chro order\n"
     ]
    }
   ],
   "source": [
    "# ata -> gateout_date\n",
    "freq_dist = summary(import_data.nday_vessel_to_gate.loc[import_data.nday_vessel_to_gate < 15], is_numeric=False)[:-1]\n",
    "freq_dist[\"prob\"] = freq_dist[\"Count\"] / np.sum(freq_dist[\"Count\"])\n",
    "\n",
    "fix_filter = pd.isna(import_data.gateout_date) & (pd.isna(import_data.ata) == False)\n",
    "print(\"{} null gateout_date are fixed using prob distribution of nday_vessel_to_gate\".format(np.sum(fix_filter)))\n",
    "nday_diff = np.random.choice(freq_dist.index.values.astype(\"float\").astype(\"int\"), np.sum(fix_filter), p=freq_dist[\"prob\"].values)\n",
    "import_data.loc[fix_filter, \"gateout_date\"] = import_data.loc[fix_filter, \"ata\"].values + onedaydelta*nday_diff\n",
    "\n",
    "secfix_filter = fix_filter & (import_data.gateout_date > import_data.delivery_arrival_date)\n",
    "print(\"rectify {} fixed gateout_date to avoid wrong chro order\".format(np.sum(secfix_filter)))\n",
    "import_data.loc[secfix_filter, \"gateout_date\"] = import_data.loc[secfix_filter, \"delivery_arrival_date\"].values"
   ]
  },
  {
   "cell_type": "code",
   "execution_count": 495,
   "metadata": {},
   "outputs": [
    {
     "name": "stdout",
     "output_type": "stream",
     "text": [
      "247 null delivery_arrival_date are fixed using prob distribution of nday_gate_to_plant\n",
      "rectify 0 fixed delivery_arrival_date to avoid wrong chro order\n"
     ]
    }
   ],
   "source": [
    "# gateout_date -> delivery_arrival_date\n",
    "freq_dist = summary(import_data.nday_gate_to_plant.loc[import_data.nday_gate_to_plant < 5], is_numeric=False)[:-1]\n",
    "freq_dist[\"prob\"] = freq_dist[\"Count\"] / np.sum(freq_dist[\"Count\"])\n",
    "\n",
    "fix_filter = pd.isna(import_data.delivery_arrival_date) & (pd.isna(import_data.gateout_date) == False)\n",
    "print(\"{} null delivery_arrival_date are fixed using prob distribution of nday_gate_to_plant\".format(np.sum(fix_filter)))\n",
    "nday_diff = np.random.choice(freq_dist.index.values.astype(\"float\").astype(\"int\"), np.sum(fix_filter), p=freq_dist[\"prob\"].values)\n",
    "import_data.loc[fix_filter, \"delivery_arrival_date\"] = import_data.loc[fix_filter, \"gateout_date\"].values + onedaydelta*nday_diff\n",
    "\n",
    "secfix_filter = fix_filter & (import_data.delivery_arrival_date > import_data.unload_finish_date)\n",
    "print(\"rectify {} fixed delivery_arrival_date to avoid wrong chro order\".format(np.sum(secfix_filter)))\n",
    "import_data.loc[secfix_filter, \"delivery_arrival_date\"] = import_data.loc[secfix_filter, \"unload_finish_date\"].values"
   ]
  },
  {
   "cell_type": "code",
   "execution_count": 496,
   "metadata": {},
   "outputs": [
    {
     "name": "stdout",
     "output_type": "stream",
     "text": [
      "3277 null unload_finish_date are fixed using prob distribution of nday_arrival_to_empty\n",
      "rectify 0 fixed unload_finish_date to avoid wrong chro order\n",
      "3277 null exit_date are fixed\n"
     ]
    }
   ],
   "source": [
    "# delivery_arrival_date -> unload_finish_date & exit_date\n",
    "freq_dist = summary(import_data.nday_arrival_to_empty.loc[import_data.nday_arrival_to_empty < 3], is_numeric=False)[:-1]\n",
    "freq_dist[\"prob\"] = freq_dist[\"Count\"] / np.sum(freq_dist[\"Count\"])\n",
    "\n",
    "fix_filter = pd.isna(import_data.unload_finish_date) & (pd.isna(import_data.delivery_arrival_date) == False)\n",
    "print(\"{} null unload_finish_date are fixed using prob distribution of nday_arrival_to_empty\".format(np.sum(fix_filter)))\n",
    "nday_diff = np.random.choice(freq_dist.index.values.astype(\"float\").astype(\"int\"), np.sum(fix_filter), p=freq_dist[\"prob\"].values)\n",
    "import_data.loc[fix_filter, \"unload_finish_date\"] = import_data.loc[fix_filter, \"delivery_arrival_date\"].values + onedaydelta*nday_diff\n",
    "\n",
    "secfix_filter = fix_filter & (import_data.unload_finish_date > import_data.returned_date)\n",
    "print(\"rectify {} fixed unload_finish_date to avoid wrong chro order\".format(np.sum(secfix_filter)))\n",
    "import_data.loc[secfix_filter, \"unload_finish_date\"] = import_data.loc[secfix_filter, \"returned_date\"].values\n",
    "\n",
    "fix_filter = fix_filter & pd.isna(import_data.exit_date)\n",
    "print(\"{} null exit_date are fixed\".format(np.sum(fix_filter)))\n",
    "import_data.loc[fix_filter, \"exit_date\"] = import_data.loc[fix_filter, \"unload_finish_date\"].values"
   ]
  },
  {
   "cell_type": "code",
   "execution_count": 497,
   "metadata": {},
   "outputs": [
    {
     "name": "stdout",
     "output_type": "stream",
     "text": [
      "3449 null returned_date are fixed using prob distribution of nday_exit_to_return\n"
     ]
    }
   ],
   "source": [
    "# exit_date -> returned_date\n",
    "freq_dist = summary(import_data.nday_exit_to_return.loc[import_data.nday_exit_to_return < 20], is_numeric=False)[:-1]\n",
    "freq_dist[\"prob\"] = freq_dist[\"Count\"] / np.sum(freq_dist[\"Count\"])\n",
    "\n",
    "fix_filter = pd.isna(import_data.returned_date) & (pd.isna(import_data.exit_date) == False)\n",
    "print(\"{} null returned_date are fixed using prob distribution of nday_exit_to_return\".format(np.sum(fix_filter)))\n",
    "nday_diff = np.random.choice(freq_dist.index.values.astype(\"float\").astype(\"int\"), np.sum(fix_filter), p=freq_dist[\"prob\"].values)\n",
    "import_data.loc[fix_filter, \"returned_date\"] = import_data.loc[fix_filter, \"exit_date\"].values + onedaydelta*nday_diff"
   ]
  },
  {
   "cell_type": "code",
   "execution_count": 498,
   "metadata": {},
   "outputs": [
    {
     "data": {
      "text/plain": [
       "ata                      0\n",
       "gateout_date             0\n",
       "delivery_arrival_date    0\n",
       "unload_finish_date       0\n",
       "exit_date                0\n",
       "returned_date            0\n",
       "dtype: int64"
      ]
     },
     "execution_count": 498,
     "metadata": {},
     "output_type": "execute_result"
    }
   ],
   "source": [
    "np.sum(pd.isna(import_data[date_cols]))"
   ]
  },
  {
   "cell_type": "code",
   "execution_count": 499,
   "metadata": {},
   "outputs": [
    {
     "name": "stdout",
     "output_type": "stream",
     "text": [
      "14284 records have non-empty dates\n",
      "14109 records have non-empty and correctly ordered dates\n"
     ]
    }
   ],
   "source": [
    "calc_ndays()"
   ]
  },
  {
   "cell_type": "code",
   "execution_count": 500,
   "metadata": {},
   "outputs": [
    {
     "name": "stdout",
     "output_type": "stream",
     "text": [
      "nday_vessel_to_gate:\n"
     ]
    },
    {
     "data": {
      "image/png": "[encoded data removed]",
      "text/plain": [
       "<Figure size 432x288 with 1 Axes>"
      ]
     },
     "metadata": {},
     "output_type": "display_data"
    },
    {
     "name": "stdout",
     "output_type": "stream",
     "text": [
      "nday_gate_to_plant:\n"
     ]
    },
    {
     "data": {
      "image/png": "[encoded data removed]",
      "text/plain": [
       "<Figure size 432x288 with 1 Axes>"
      ]
     },
     "metadata": {},
     "output_type": "display_data"
    },
    {
     "name": "stdout",
     "output_type": "stream",
     "text": [
      "nday_arrival_to_empty:\n"
     ]
    },
    {
     "data": {
      "image/png": "[encoded data removed]",
      "text/plain": [
       "<Figure size 432x288 with 1 Axes>"
      ]
     },
     "metadata": {},
     "output_type": "display_data"
    },
    {
     "name": "stdout",
     "output_type": "stream",
     "text": [
      "nday_empty_to_exit:\n"
     ]
    },
    {
     "data": {
      "image/png": "[encoded data removed]",
      "text/plain": [
       "<Figure size 432x288 with 1 Axes>"
      ]
     },
     "metadata": {},
     "output_type": "display_data"
    },
    {
     "name": "stdout",
     "output_type": "stream",
     "text": [
      "nday_exit_to_return:\n"
     ]
    },
    {
     "data": {
      "image/png": "[encoded data removed]",
      "text/plain": [
       "<Figure size 432x288 with 1 Axes>"
      ]
     },
     "metadata": {},
     "output_type": "display_data"
    }
   ],
   "source": [
    "for col in nday_cols:\n",
    "    print(col + \":\")\n",
    "    hist(import_data.loc[(pd.isna(import_data[col]) == False), col], range=(0, 20), bins=20, color=\"blue\")\n"
   ]
  },
  {
   "cell_type": "code",
   "execution_count": 501,
   "metadata": {},
   "outputs": [],
   "source": [
    "import_data.loc[634, \"gateout_date\"] = np.datetime64(\"2019-01-18\")\n",
    "import_data.loc[687, \"gateout_date\"] = np.datetime64(\"2019-01-29\")\n",
    "import_data.loc[709, \"delivery_arrival_date\"] = np.datetime64(\"2019-01-25\")\n",
    "import_data.loc[769, \"delivery_arrival_date\"] = np.datetime64(\"2019-01-27\")\n",
    "import_data.loc[923, \"delivery_arrival_date\"] = np.datetime64(\"2019-02-02\")\n",
    "ordered_filter = (import_data.ata <= import_data.gateout_date) & (import_data.gateout_date <= import_data.delivery_arrival_date) & (import_data.delivery_arrival_date <= import_data.unload_finish_date) & (import_data.unload_finish_date <= import_data.exit_date) & (import_data.exit_date <= import_data.returned_date)\n",
    "import_data = import_data.loc[ordered_filter, :]\n"
   ]
  },
  {
   "cell_type": "code",
   "execution_count": 502,
   "metadata": {},
   "outputs": [
    {
     "name": "stdout",
     "output_type": "stream",
     "text": [
      "14114 records have non-empty dates\n",
      "14114 records have non-empty and correctly ordered dates\n"
     ]
    }
   ],
   "source": [
    "calc_ndays()"
   ]
  },
  {
   "cell_type": "code",
   "execution_count": 503,
   "metadata": {},
   "outputs": [
    {
     "data": {
      "image/png": "[encoded data removed]",
      "text/plain": [
       "<Figure size 432x288 with 1 Axes>"
      ]
     },
     "metadata": {},
     "output_type": "display_data"
    }
   ],
   "source": [
    "grp_by_month = import_data[[\"po_1\", \"month_sn\"]].groupby([\"month_sn\"]).count()\n",
    "barplot(grp_by_month)"
   ]
  },
  {
   "cell_type": "code",
   "execution_count": 504,
   "metadata": {},
   "outputs": [
    {
     "data": {
      "image/png": "[encoded data removed]",
      "text/plain": [
       "<Figure size 432x288 with 1 Axes>"
      ]
     },
     "metadata": {},
     "output_type": "display_data"
    }
   ],
   "source": [
    "grp_by_day = import_data[[\"po_1\", \"day_sn\"]].groupby([\"day_sn\"]).count()\n",
    "barplot(grp_by_day)"
   ]
  },
  {
   "cell_type": "code",
   "execution_count": 505,
   "metadata": {},
   "outputs": [
    {
     "data": {
      "image/png": "[encoded data removed]",
      "text/plain": [
       "<Figure size 432x288 with 1 Axes>"
      ]
     },
     "metadata": {},
     "output_type": "display_data"
    }
   ],
   "source": [
    "grp_by_wday = import_data[[\"po_1\", \"wday\"]].groupby([\"wday\"]).count()\n",
    "barplot(grp_by_wday)"
   ]
  },
  {
   "cell_type": "code",
   "execution_count": null,
   "metadata": {},
   "outputs": [],
   "source": []
  },
  {
   "cell_type": "code",
   "execution_count": null,
   "metadata": {},
   "outputs": [],
   "source": []
  },
  {
   "cell_type": "code",
   "execution_count": null,
   "metadata": {},
   "outputs": [],
   "source": []
  },
  {
   "cell_type": "code",
   "execution_count": null,
   "metadata": {},
   "outputs": [],
   "source": []
  },
  {
   "cell_type": "code",
   "execution_count": 274,
   "metadata": {},
   "outputs": [],
   "source": [
    "for col in nday_cols:\n",
    "    dirty_filter = pd.isna(import_data[col]) | (import_data[col] < 0)\n",
    "    import_data.loc[dirty_filter, col] = np.median(import_data.loc[dirty_filter == False, col].values)"
   ]
  },
  {
   "cell_type": "code",
   "execution_count": 278,
   "metadata": {},
   "outputs": [],
   "source": [
    "import_data = import_data.loc[import_data.nday_vessel_to_gate < 30, :]\n",
    "import_data = import_data.loc[import_data.nday_gate_to_plant < 4, :]\n",
    "import_data = import_data.loc[import_data.nday_arrival_to_empty < 20, :]\n",
    "import_data = import_data.loc[import_data.nday_empty_to_exit < 2, :]\n",
    "import_data = import_data.loc[import_data.nday_exit_to_return < 8, :]"
   ]
  },
  {
   "cell_type": "code",
   "execution_count": 264,
   "metadata": {},
   "outputs": [],
   "source": [
    "# for col in nday_cols:\n",
    "#     q3 = max(np.quantile(import_data[col], 0.75), 1)\n",
    "#     q1 = np.quantile(import_data[col], 0.25)\n",
    "#     iqr = q3 - q1\n",
    "#     outlier_filter = import_data[col] > (q3 + iqr*20)\n",
    "#     print(np.sum(outlier_filter))\n",
    "#     import_data = import_data.loc[outlier_filter == False, :]"
   ]
  }
 ],
 "metadata": {
  "kernelspec": {
   "display_name": "Python 3",
   "language": "python",
   "name": "python3"
  },
  "language_info": {
   "codemirror_mode": {
    "name": "ipython",
    "version": 3
   },
   "file_extension": ".py",
   "mimetype": "text/x-python",
   "name": "python",
   "nbconvert_exporter": "python",
   "pygments_lexer": "ipython3",
   "version": "3.7.5"
  }
 },
 "nbformat": 4,
 "nbformat_minor": 2
}
